{
 "cells": [
  {
   "cell_type": "markdown",
   "id": "be6e69a4-6954-4134-9aac-cf6bc90df591",
   "metadata": {},
   "source": [
    "# GEMPD: Machine Learning Pipeline for Transcriptomic data\n",
    "## Author: Felipe Villena, PhD\n",
    "### Date:  08/07/2024"
   ]
  },
  {
   "cell_type": "markdown",
   "id": "63b45049-ee9e-4756-a6e3-1cab71c78e11",
   "metadata": {},
   "source": [
    "# 1 - Loading libraries"
   ]
  },
  {
   "cell_type": "code",
   "execution_count": 1,
   "id": "05ea1cfc-e6c8-4b43-8bdf-96b72ec6e9d9",
   "metadata": {},
   "outputs": [],
   "source": [
    "# Import ProcessSalmonData Modules\n",
    "\n",
    "# S1: Script to Load the config file\n",
    "from S1_LoadConfigFile.load_config import *\n",
    "\n",
    "# S2: Scripts to consolidate salmon data into tabular format\n",
    "\n",
    "from S2_ProcessSalmonData.ProcessSalmon import *\n",
    "\n",
    "# S4 - Running multiple ML models in R\n",
    "\n",
    "import subprocess\n",
    "import os\n",
    "import sys"
   ]
  },
  {
   "cell_type": "markdown",
   "id": "2a764329-b45c-4dcd-a2cf-2491c3dc5eee",
   "metadata": {},
   "source": [
    "# 2 - Run pipeline\n",
    "\n",
    "## 2.1 - Load config file and create an output folder"
   ]
  },
  {
   "cell_type": "code",
   "execution_count": 2,
   "id": "ac048166-56d5-466f-97fa-e5f24c98cbad",
   "metadata": {},
   "outputs": [
    {
     "name": "stdout",
     "output_type": "stream",
     "text": [
      "Configuration loaded successfully from config.yaml\n"
     ]
    }
   ],
   "source": [
    "# Load config\n",
    "\n",
    "config = load_config('config.yaml')\n",
    "\n",
    "# Make output directory\n",
    "output_folder = config['output_folder']\n",
    "os.makedirs(output_folder, exist_ok=True)"
   ]
  },
  {
   "cell_type": "markdown",
   "id": "9a1a3f9f-5069-4919-923e-2977397ab94f",
   "metadata": {},
   "source": [
    "## 2.2 - Process salmon data"
   ]
  },
  {
   "cell_type": "code",
   "execution_count": 3,
   "id": "d800aee0-2ccd-4f15-af41-a0df6478bec1",
   "metadata": {},
   "outputs": [
    {
     "name": "stdout",
     "output_type": "stream",
     "text": [
      "Number of patient IDs: 1795\n",
      "Number of top genes: 151\n",
      "Using value column: TPM\n",
      "Number of .sf files found: 4756\n"
     ]
    },
    {
     "name": "stderr",
     "output_type": "stream",
     "text": [
      "Processing files: 100%|██████████| 4756/4756 [00:36<00:00, 129.86it/s]"
     ]
    },
    {
     "name": "stdout",
     "output_type": "stream",
     "text": [
      "\n",
      "Filtered data saved to /home/jovyan/mounted_data/GEML_pipe/Outputs/filtered_data.tsv\n",
      "Processed 1768 patients out of 1795 total patients\n",
      "Number of missing patients: 27\n",
      "Missing patients: 5104-SL-0115, 5104-SL-0117, 5104-SL-0119, 5104-SL-0457, 5104-SL-1524, 5104-SL-2055, 5104-SL-2228, 5104-SL-2310, 5104-SL-2324, 5104-SL-2492, 5104-SL-2526, 5104-SL-2527, 5104-SL-2529, 5104-SL-2530, 5104-SL-2531, 5104-SL-2532, 5104-SL-2533, 5104-SL-2535, 5104-SL-2537, 5104-SL-2628, 5104-SL-3324, 5104-SL-3337, 5104-SL-3486, 5104-SL-4442, 5104-SL-4685, 5104-SL-4733, 5104-SL-4857\n",
      "\n",
      "Number of genes included in the output: 150\n",
      "Number of genes removed due to no data: 1\n",
      "Removed genes: ENSG00000207389.1\n",
      "\n",
      "Number of 'NA' values in the final data: 0\n"
     ]
    },
    {
     "name": "stderr",
     "output_type": "stream",
     "text": [
      "\n"
     ]
    }
   ],
   "source": [
    "filtered_file = process_and_filter_salmon_data(config) # output is the '/home/jovyan/mounted_data/GEML_pipe/Outputs/filtered_data.tsv'"
   ]
  },
  {
   "cell_type": "markdown",
   "id": "6c90d628-46a7-4b7e-b246-02e2a0b8198d",
   "metadata": {},
   "source": [
    "## 2.3 - Evaluating multiple ML models"
   ]
  },
  {
   "cell_type": "code",
   "execution_count": 4,
   "id": "965eabaf-31cd-482f-9b6b-3fdbb1c58e0e",
   "metadata": {},
   "outputs": [
    {
     "name": "stdout",
     "output_type": "stream",
     "text": [
      "Python script: Preparing to run R script\n",
      "R script path: /home/jovyan/mounted_data/GEML_pipe/S3_MLeval/ml_model_testing.R\n",
      "Filtered data path: /home/jovyan/mounted_data/GEML_pipe/Outputs/filtered_data.tsv\n",
      "Metadata path: /home/jovyan/mounted_data/meta_data.11192021.csv\n",
      "Patients path: /home/jovyan/mounted_data/PatientsSelected.tsv\n",
      "Python script: Attempting to run R script\n",
      "Python script: R script execution completed\n",
      "R script standard output:\n",
      "R script started\n",
      "R version: R version 4.3.1 (2023-06-16) \n",
      "Entering main function\n",
      "Number of arguments received: 3 \n",
      "Arguments received:\n",
      "  Argument 1 : /home/jovyan/mounted_data/GEML_pipe/Outputs/filtered_data.tsv \n",
      "    File exists\n",
      "  Argument 2 : /home/jovyan/mounted_data/meta_data.11192021.csv \n",
      "    File exists\n",
      "  Argument 3 : /home/jovyan/mounted_data/PatientsSelected.tsv \n",
      "    File exists\n",
      "\n",
      "Parsed arguments:\n",
      "  filtered_data_path: /home/jovyan/mounted_data/GEML_pipe/Outputs/filtered_data.tsv \n",
      "  metadata_path: /home/jovyan/mounted_data/meta_data.11192021.csv \n",
      "  patients_path: /home/jovyan/mounted_data/PatientsSelected.tsv \n",
      "Loading data...\n",
      "Filtered data dimensions: 150 x 1769 \n",
      "Metadata dimensions: 4850 x 56 \n",
      "Patients data dimensions: 1795 x 1 \n",
      "Filtering metadata...\n",
      "The length of patients in matrix:   1768Filtering metadata by patient ID...\n",
      "Aligning data...\n",
      "Filtered PD dimensions: 150 x 1622 \n",
      "Preparing data for machine learning...\n",
      "Training data dimensions: 150 x 1135 \n",
      "Testing data dimensions: 150 x 487 \n",
      "Creating DESeq objects...\n",
      "DESeq objects created successfully\n",
      "Starting run_mlseq_models_parallel function\n",
      "Number of cores to be used: 7 \n",
      "Setting up parallel processing...\n",
      "Parallel processing setup complete\n",
      "Defining control parameters...\n",
      "Control parameters defined\n",
      "Defining model configurations...\n",
      "Number of models to be trained: 16 \n",
      "Model configurations defined\n",
      "Starting parallel model training. This may take a while...\n",
      "Stopping parallel cluster...\n",
      "Parallel processing complete\n",
      "Extracting model information...\n",
      "Processing model: rpart \n",
      "Processing model: glmnet \n",
      "Error occurred for model glmnet \n",
      "Processing model: knn \n",
      "Processing model: nb \n",
      "Error occurred for model nb \n",
      "Processing model: pam \n",
      "Processing model: nnet \n",
      "Processing model: rf \n",
      "Processing model: svmLinear \n",
      "Processing model: svmPoly \n",
      "Processing model: svmRadial \n",
      "Processing model: PLDA \n",
      "Processing model: PLDA2 \n",
      "Processing model: NBLDA \n",
      "Processing model: voomDLDA \n",
      "Processing model: voomDQDA \n",
      "Processing model: voomNSC \n",
      "\n",
      "Model summary:\n",
      "       Model    Method Transformation Normalization PreProcessing Reference\n",
      "1      rpart     rpart            vst         deseq     deseq-vst      Case\n",
      "2     glmnet      <NA>           <NA>          <NA>          <NA>      <NA>\n",
      "3        knn       knn            vst         deseq     deseq-vst      Case\n",
      "4         nb      <NA>           <NA>          <NA>          <NA>      <NA>\n",
      "5        pam       pam            vst         deseq     deseq-vst      Case\n",
      "6       nnet      nnet            vst         deseq     deseq-vst      Case\n",
      "7         rf        rf            vst         deseq     deseq-vst      Case\n",
      "8  svmLinear svmLinear            vst         deseq     deseq-vst      Case\n",
      "9    svmPoly   svmPoly            vst         deseq     deseq-vst      Case\n",
      "10 svmRadial svmRadial            vst         deseq     deseq-vst      Case\n",
      "11      PLDA      PLDA           <NA>         deseq          <NA>      Case\n",
      "12     PLDA2     PLDA2           <NA>         deseq          <NA>      Case\n",
      "13     NBLDA     NBLDA           <NA>         deseq          <NA>      Case\n",
      "14  voomDLDA  voomDLDA           voom         deseq          <NA>      Case\n",
      "15  voomDQDA  voomDQDA           voom         deseq          <NA>      Case\n",
      "16   voomNSC   voomNSC           voom         deseq          <NA>      Case\n",
      "    Accuracy        Kappa            Time                                 Error\n",
      "1  0.5303965  0.005951589 0.08513152 mins                                  <NA>\n",
      "2         NA           NA 0.05865526 mins Required packages are missing: glmnet\n",
      "3  0.5101322 -0.014768217 0.10204893 mins                                  <NA>\n",
      "4         NA           NA 0.06339579 mins   Required packages are missing: klaR\n",
      "5  0.5629956  0.000000000 0.07174455 mins                                  <NA>\n",
      "6  0.5647577  0.023382116 0.35433691 mins                                  <NA>\n",
      "7  0.5211268 -0.035384945 0.64970428 mins                                  <NA>\n",
      "8  0.5647577  0.007561571 0.13969300 mins                                  <NA>\n",
      "9  0.5651408  0.006571121 0.80254700 mins                                  <NA>\n",
      "10 0.5582011 -0.005258669 0.28738428 mins                                  <NA>\n",
      "11 0.5679012  0.025383595 0.04563785 mins                                  <NA>\n",
      "12 0.5696649  0.041300552 0.07636363 mins                                  <NA>\n",
      "13 0.4933921  0.037938502 0.03221281 mins                                  <NA>\n",
      "14 0.5299296  0.038837905 0.03655378 mins                                  <NA>\n",
      "15 0.5127753  0.024142429 0.03656648 mins                                  <NA>\n",
      "16 0.5691630  0.115447691 0.04473527 mins                                  <NA>\n",
      "\n",
      "Total execution time: 0.94 minutes\n",
      "Average time per model: 0.18 minutes\n",
      "Results saved to: /home/jovyan/mounted_data/GEML_pipe/Outputs/ml_model_results.csv \n",
      "R script completed successfully\n",
      "\n",
      "R script standard error:\n",
      "converting counts to integer mode\n",
      "converting counts to integer mode\n",
      "Warning messages:\n",
      "1: In DESeqDataSet(se, design = design, ignoreRank) :\n",
      "  some variables in design formula are characters, converting to factors\n",
      "2: In DESeqDataSet(se, design = design, ignoreRank) :\n",
      "  some variables in design formula are characters, converting to factors\n",
      "\n",
      "Python script: ML evaluation executed successfully!\n",
      "Python script: Execution completed\n"
     ]
    }
   ],
   "source": [
    "# Ensure all paths are absolute\n",
    "\n",
    "r_script_path = os.path.abspath(os.path.join(\"S3_MLeval\", \"ml_model_testing.R\"))\n",
    "filtered_data_path = os.path.abspath(os.path.join(config['output_folder'], config['filtered_data_filename']))\n",
    "metadata_path = os.path.abspath(config['metadata_file'])\n",
    "patients_path = os.path.abspath(config['patients_file'])\n",
    "\n",
    "print(\"Python script: Preparing to run R script\")\n",
    "print(f\"R script path: {r_script_path}\")\n",
    "print(f\"Filtered data path: {filtered_data_path}\")\n",
    "print(f\"Metadata path: {metadata_path}\")\n",
    "print(f\"Patients path: {patients_path}\")\n",
    "\n",
    "# Run the R script\n",
    "\n",
    "try:\n",
    "    print(\"Python script: Attempting to run R script\")\n",
    "    result = subprocess.run([\n",
    "        \"Rscript\",\n",
    "        r_script_path,\n",
    "        filtered_data_path,\n",
    "        metadata_path,\n",
    "        patients_path\n",
    "    ], check=True, capture_output=True, text=True)\n",
    "    \n",
    "    print(\"Python script: R script execution completed\")\n",
    "    print(\"R script standard output:\")\n",
    "    print(result.stdout)\n",
    "    \n",
    "    if result.stderr:\n",
    "        print(\"R script standard error:\")\n",
    "        print(result.stderr)\n",
    "    \n",
    "    print(\"Python script: ML evaluation executed successfully!\")\n",
    "\n",
    "except subprocess.CalledProcessError as e:\n",
    "    print(\"Python script: R script execution failed\")\n",
    "    print(f\"Return code: {e.returncode}\")\n",
    "    print(\"Standard output:\")\n",
    "    print(e.stdout)\n",
    "    print(\"Standard error:\")\n",
    "    print(e.stderr)\n",
    "    sys.exit(1)\n",
    "\n",
    "except Exception as e:\n",
    "    print(f\"Python script: An unexpected error occurred: {str(e)}\")\n",
    "    sys.exit(1)\n",
    "\n",
    "print(\"Python script: Execution completed\")"
   ]
  }
 ],
 "metadata": {
  "kernelspec": {
   "display_name": "Python 3 (ipykernel)",
   "language": "python",
   "name": "python3"
  },
  "language_info": {
   "codemirror_mode": {
    "name": "ipython",
    "version": 3
   },
   "file_extension": ".py",
   "mimetype": "text/x-python",
   "name": "python",
   "nbconvert_exporter": "python",
   "pygments_lexer": "ipython3",
   "version": "3.11.6"
  }
 },
 "nbformat": 4,
 "nbformat_minor": 5
}
